{
 "cells": [
  {
   "cell_type": "code",
   "execution_count": 1,
   "metadata": {},
   "outputs": [
    {
     "name": "stdout",
     "output_type": "stream",
     "text": [
      "105 training faces\n"
     ]
    }
   ],
   "source": [
    "# load face embeddings\n",
    "import csv\n",
    "import numpy as np\n",
    "\n",
    "names = []\n",
    "faces = []\n",
    "\n",
    "with open('./output/train_vgg_face.csv', 'r') as csv_file:\n",
    "    csv_reader = csv.reader(csv_file, delimiter=',')\n",
    "    for row in csv_reader:\n",
    "        names.append(row[0])\n",
    "        faces.append(np.array(row[1:]).astype(float))\n",
    "        \n",
    "print(len(faces), 'training faces')"
   ]
  },
  {
   "cell_type": "code",
   "execution_count": 7,
   "metadata": {},
   "outputs": [
    {
     "name": "stdout",
     "output_type": "stream",
     "text": [
      "0 >> chiao\n",
      "1 >> kaze\n",
      "2 >> kiki\n",
      "3 >> real\n",
      "4 >> ricebug\n",
      "5 >> tsungchan\n",
      "6 >> tsungyu\n"
     ]
    }
   ],
   "source": [
    "# labels for classes\n",
    "from sklearn.preprocessing import LabelEncoder\n",
    "\n",
    "le = LabelEncoder()\n",
    "labels = le.fit_transform(names)\n",
    "for i in range(le.classes_.shape[0]):\n",
    "    print(i, '>>', le.classes_[i])"
   ]
  },
  {
   "cell_type": "code",
   "execution_count": 13,
   "metadata": {},
   "outputs": [
    {
     "name": "stdout",
     "output_type": "stream",
     "text": [
      "C =     1, gamma = 0.000010, score = 0.105\n",
      "C =     1, gamma = 0.000100, score = 0.848\n",
      "C =     1, gamma = 0.001000, score = 0.881\n",
      "C =     1, gamma = 0.010000, score = 0.048\n",
      "C =     1, gamma = 0.100000, score = 0.052\n",
      "C =    10, gamma = 0.000010, score = 0.886\n",
      "C =    10, gamma = 0.000100, score = 0.919\n",
      "C =    10, gamma = 0.001000, score = 0.838\n",
      "C =    10, gamma = 0.010000, score = 0.071\n",
      "C =    10, gamma = 0.100000, score = 0.062\n",
      "C =   100, gamma = 0.000010, score = 0.929\n",
      "C =   100, gamma = 0.000100, score = 0.919\n",
      "C =   100, gamma = 0.001000, score = 0.876\n",
      "C =   100, gamma = 0.010000, score = 0.071\n",
      "C =   100, gamma = 0.100000, score = 0.048\n",
      "C =  1000, gamma = 0.000010, score = 0.929\n",
      "C =  1000, gamma = 0.000100, score = 0.933\n",
      "C =  1000, gamma = 0.001000, score = 0.843\n",
      "C =  1000, gamma = 0.010000, score = 0.062\n",
      "C =  1000, gamma = 0.100000, score = 0.062\n",
      "C = 10000, gamma = 0.000010, score = 0.914\n",
      "C = 10000, gamma = 0.000100, score = 0.914\n",
      "C = 10000, gamma = 0.001000, score = 0.910\n",
      "C = 10000, gamma = 0.010000, score = 0.067\n",
      "C = 10000, gamma = 0.100000, score = 0.052\n"
     ]
    }
   ],
   "source": [
    "# train svm \n",
    "\n",
    "from sklearn.model_selection import cross_val_score\n",
    "from sklearn.model_selection import ShuffleSplit\n",
    "from sklearn.svm import SVC\n",
    "\n",
    "# grid search for parameters with 10-fold cross validation\n",
    "for C in [1, 10, 100, 1000, 10000]:\n",
    "    for gamma in [0.00001, 0.0001, 0.001, 0.01, 0.1]:\n",
    "        svc = SVC(C=C, gamma=gamma, kernel='rbf', probability=False)\n",
    "        cv = ShuffleSplit(n_splits=10, test_size=0.2)\n",
    "        scores = cross_val_score(svc, faces, labels, cv=cv)\n",
    "        print(\"C = {0:5d}, gamma = {1:1.6f}, score = {2:1.3f}\".format(C, gamma, np.mean(scores)))"
   ]
  },
  {
   "cell_type": "code",
   "execution_count": 16,
   "metadata": {},
   "outputs": [],
   "source": [
    "# set the parameters we want and train \n",
    "import pickle\n",
    "\n",
    "svc = SVC(C=1000, gamma=0.0001, kernel='rbf', probability=False)\n",
    "svc.fit(faces, labels)\n",
    "\n",
    "with open('./output/svc_vgg_face.model', 'wb') as f:\n",
    "    pickle.dump(svc, f)"
   ]
  }
 ],
 "metadata": {
  "kernelspec": {
   "display_name": "Python 3",
   "language": "python",
   "name": "python3"
  },
  "language_info": {
   "codemirror_mode": {
    "name": "ipython",
    "version": 3
   },
   "file_extension": ".py",
   "mimetype": "text/x-python",
   "name": "python",
   "nbconvert_exporter": "python",
   "pygments_lexer": "ipython3",
   "version": "3.5.2"
  }
 },
 "nbformat": 4,
 "nbformat_minor": 2
}
