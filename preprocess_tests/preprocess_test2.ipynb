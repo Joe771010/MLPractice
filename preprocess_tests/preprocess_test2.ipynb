{
 "cells": [
  {
   "cell_type": "code",
   "execution_count": 1,
   "metadata": {},
   "outputs": [
    {
     "name": "stderr",
     "output_type": "stream",
     "text": [
      "Using TensorFlow backend.\n"
     ]
    }
   ],
   "source": [
    "# load cifar10 data\n",
    "\n",
    "from keras.datasets import cifar10\n",
    "\n",
    "(x_train, y_train), (x_test, y_test) = cifar10.load_data()\n",
    "x_train = x_train.astype('float32')\n",
    "x_test = x_test.astype('float32')"
   ]
  },
  {
   "cell_type": "code",
   "execution_count": 2,
   "metadata": {},
   "outputs": [],
   "source": [
    "from keras.models import Sequential\n",
    "from keras.layers import Dense, Conv2D, MaxPooling2D, GlobalMaxPooling2D, GlobalAveragePooling2D\n",
    "from keras.layers import Activation, Flatten, Dropout\n",
    "import keras"
   ]
  },
  {
   "cell_type": "code",
   "execution_count": 3,
   "metadata": {},
   "outputs": [],
   "source": [
    "def get_model():\n",
    "    model = Sequential()\n",
    "    model.add(Conv2D(32, (3,3), padding='same', input_shape=(32, 32, 3)))\n",
    "    model.add(Activation('relu'))\n",
    "    model.add(Conv2D(32, (3,3), padding='same'))\n",
    "    model.add(Activation('relu'))\n",
    "    model.add(MaxPooling2D((2,2)))\n",
    "    model.add(Dropout(0.2))\n",
    "\n",
    "    model.add(Conv2D(64, (3,3), padding='same'))\n",
    "    model.add(Activation('relu'))\n",
    "    model.add(Conv2D(64, (3,3), padding='same'))\n",
    "    model.add(Activation('relu'))\n",
    "    model.add(MaxPooling2D((2,2)))\n",
    "    model.add(Dropout(0.2))\n",
    "\n",
    "    model.add(Conv2D(256, (3,3), padding='same'))\n",
    "    model.add(Activation('relu'))\n",
    "    model.add(Conv2D(256, (3,3), padding='same'))\n",
    "    model.add(Activation('relu'))\n",
    "    model.add(Dropout(0.2))\n",
    "    \n",
    "    model.add(GlobalAveragePooling2D())\n",
    "\n",
    "    model.add(Dense(10))\n",
    "    model.add(Activation('softmax'))\n",
    "\n",
    "    model.compile(loss='categorical_crossentropy', optimizer='adam', metrics=['accuracy'])\n",
    "    return model"
   ]
  },
  {
   "cell_type": "code",
   "execution_count": 4,
   "metadata": {},
   "outputs": [
    {
     "name": "stdout",
     "output_type": "stream",
     "text": [
      "Train on 30000 samples, validate on 100 samples\n",
      "Epoch 1/30\n",
      "30000/30000 [==============================] - 62s 2ms/step - loss: 14.5007 - acc: 0.0994 - val_loss: 14.3451 - val_acc: 0.1100\n",
      "Epoch 2/30\n",
      "30000/30000 [==============================] - 58s 2ms/step - loss: 14.5090 - acc: 0.0998 - val_loss: 14.3451 - val_acc: 0.1100\n",
      "Epoch 3/30\n",
      "30000/30000 [==============================] - 58s 2ms/step - loss: 14.5090 - acc: 0.0998 - val_loss: 14.3451 - val_acc: 0.1100\n",
      "Epoch 4/30\n",
      "30000/30000 [==============================] - 58s 2ms/step - loss: 14.5090 - acc: 0.0998 - val_loss: 14.3451 - val_acc: 0.1100\n",
      "Epoch 5/30\n",
      "30000/30000 [==============================] - 59s 2ms/step - loss: 14.5090 - acc: 0.0998 - val_loss: 14.3451 - val_acc: 0.1100\n",
      "Epoch 6/30\n",
      "30000/30000 [==============================] - 59s 2ms/step - loss: 14.5090 - acc: 0.0998 - val_loss: 14.3451 - val_acc: 0.1100\n",
      "Epoch 7/30\n",
      "30000/30000 [==============================] - 58s 2ms/step - loss: 14.5090 - acc: 0.0998 - val_loss: 14.3451 - val_acc: 0.1100\n",
      "Epoch 8/30\n",
      "30000/30000 [==============================] - 58s 2ms/step - loss: 14.5090 - acc: 0.0998 - val_loss: 14.3451 - val_acc: 0.1100\n",
      "Epoch 9/30\n",
      "30000/30000 [==============================] - 58s 2ms/step - loss: 14.5090 - acc: 0.0998 - val_loss: 14.3451 - val_acc: 0.1100\n",
      "Epoch 10/30\n",
      "30000/30000 [==============================] - 58s 2ms/step - loss: 14.5090 - acc: 0.0998 - val_loss: 14.3451 - val_acc: 0.1100\n",
      "Epoch 11/30\n",
      "30000/30000 [==============================] - 58s 2ms/step - loss: 14.5090 - acc: 0.0998 - val_loss: 14.3451 - val_acc: 0.1100\n",
      "Epoch 12/30\n",
      "30000/30000 [==============================] - 58s 2ms/step - loss: 14.5090 - acc: 0.0998 - val_loss: 14.3451 - val_acc: 0.1100\n",
      "Epoch 13/30\n",
      "30000/30000 [==============================] - 58s 2ms/step - loss: 14.5090 - acc: 0.0998 - val_loss: 14.3451 - val_acc: 0.1100\n",
      "Epoch 14/30\n",
      "30000/30000 [==============================] - 58s 2ms/step - loss: 14.5090 - acc: 0.0998 - val_loss: 14.3451 - val_acc: 0.1100\n",
      "Epoch 15/30\n",
      "30000/30000 [==============================] - 58s 2ms/step - loss: 14.5090 - acc: 0.0998 - val_loss: 14.3451 - val_acc: 0.1100\n",
      "Epoch 16/30\n",
      "30000/30000 [==============================] - 58s 2ms/step - loss: 14.5090 - acc: 0.0998 - val_loss: 14.3451 - val_acc: 0.1100\n",
      "Epoch 17/30\n",
      "30000/30000 [==============================] - 59s 2ms/step - loss: 14.5090 - acc: 0.0998 - val_loss: 14.3451 - val_acc: 0.1100\n",
      "Epoch 18/30\n",
      "30000/30000 [==============================] - 58s 2ms/step - loss: 14.5090 - acc: 0.0998 - val_loss: 14.3451 - val_acc: 0.1100\n",
      "Epoch 19/30\n",
      "30000/30000 [==============================] - 59s 2ms/step - loss: 14.5090 - acc: 0.0998 - val_loss: 14.3451 - val_acc: 0.1100\n",
      "Epoch 20/30\n",
      "30000/30000 [==============================] - 58s 2ms/step - loss: 14.5090 - acc: 0.0998 - val_loss: 14.3451 - val_acc: 0.1100\n",
      "Epoch 21/30\n",
      "30000/30000 [==============================] - 58s 2ms/step - loss: 14.5090 - acc: 0.0998 - val_loss: 14.3451 - val_acc: 0.1100\n",
      "Epoch 22/30\n",
      "30000/30000 [==============================] - 58s 2ms/step - loss: 14.5090 - acc: 0.0998 - val_loss: 14.3451 - val_acc: 0.1100\n",
      "Epoch 23/30\n",
      "30000/30000 [==============================] - 60s 2ms/step - loss: 14.5090 - acc: 0.0998 - val_loss: 14.3451 - val_acc: 0.1100\n",
      "Epoch 24/30\n",
      "30000/30000 [==============================] - 60s 2ms/step - loss: 14.5090 - acc: 0.0998 - val_loss: 14.3451 - val_acc: 0.1100\n",
      "Epoch 25/30\n",
      "30000/30000 [==============================] - 59s 2ms/step - loss: 14.5090 - acc: 0.0998 - val_loss: 14.3451 - val_acc: 0.1100\n",
      "Epoch 26/30\n",
      "30000/30000 [==============================] - 58s 2ms/step - loss: 14.5090 - acc: 0.0998 - val_loss: 14.3451 - val_acc: 0.1100\n",
      "Epoch 27/30\n",
      "30000/30000 [==============================] - 58s 2ms/step - loss: 14.5090 - acc: 0.0998 - val_loss: 14.3451 - val_acc: 0.1100\n",
      "Epoch 28/30\n",
      "30000/30000 [==============================] - 59s 2ms/step - loss: 14.5090 - acc: 0.0998 - val_loss: 14.3451 - val_acc: 0.1100\n",
      "Epoch 29/30\n",
      "30000/30000 [==============================] - 59s 2ms/step - loss: 14.5090 - acc: 0.0998 - val_loss: 14.3451 - val_acc: 0.1100\n",
      "Epoch 30/30\n",
      "30000/30000 [==============================] - 59s 2ms/step - loss: 14.5090 - acc: 0.0998 - val_loss: 14.3451 - val_acc: 0.1100\n"
     ]
    }
   ],
   "source": [
    "# just use a part of training data\n",
    "\n",
    "# NO PREPROCESSING\n",
    "\n",
    "import keras\n",
    "\n",
    "x_train1 = x_train[0:30000]\n",
    "y_train1 = keras.utils.to_categorical(y_train[0:30000], 10) \n",
    "x_valid1 = x_test[0:100]\n",
    "y_valid1 = keras.utils.to_categorical(y_test[0:100], 10) \n",
    "\n",
    "\n",
    "model1 = get_model()\n",
    "history1 = model1.fit(x_train1, y_train1, batch_size=64, epochs=30, shuffle=False, validation_data=(x_valid1, y_valid1))"
   ]
  },
  {
   "cell_type": "code",
   "execution_count": 5,
   "metadata": {},
   "outputs": [
    {
     "name": "stdout",
     "output_type": "stream",
     "text": [
      "Train on 30000 samples, validate on 100 samples\n",
      "Epoch 1/30\n",
      "30000/30000 [==============================] - 59s 2ms/step - loss: 1.8652 - acc: 0.3053 - val_loss: 1.4594 - val_acc: 0.4900\n",
      "Epoch 2/30\n",
      "30000/30000 [==============================] - 59s 2ms/step - loss: 1.3588 - acc: 0.5057 - val_loss: 1.0924 - val_acc: 0.6300\n",
      "Epoch 3/30\n",
      "30000/30000 [==============================] - 59s 2ms/step - loss: 1.1336 - acc: 0.5954 - val_loss: 0.8933 - val_acc: 0.7000\n",
      "Epoch 4/30\n",
      "30000/30000 [==============================] - 59s 2ms/step - loss: 0.9983 - acc: 0.6474 - val_loss: 0.8471 - val_acc: 0.7000\n",
      "Epoch 5/30\n",
      "30000/30000 [==============================] - 59s 2ms/step - loss: 0.8960 - acc: 0.6854 - val_loss: 0.8785 - val_acc: 0.6900\n",
      "Epoch 6/30\n",
      "30000/30000 [==============================] - 59s 2ms/step - loss: 0.8314 - acc: 0.7081 - val_loss: 0.8667 - val_acc: 0.7700\n",
      "Epoch 7/30\n",
      "30000/30000 [==============================] - 59s 2ms/step - loss: 0.7563 - acc: 0.7324 - val_loss: 0.8116 - val_acc: 0.7200\n",
      "Epoch 8/30\n",
      "30000/30000 [==============================] - 59s 2ms/step - loss: 0.7094 - acc: 0.7522 - val_loss: 0.7512 - val_acc: 0.7500\n",
      "Epoch 9/30\n",
      "30000/30000 [==============================] - 59s 2ms/step - loss: 0.6519 - acc: 0.7729 - val_loss: 0.9429 - val_acc: 0.7200\n",
      "Epoch 10/30\n",
      "30000/30000 [==============================] - 59s 2ms/step - loss: 0.6143 - acc: 0.7819 - val_loss: 0.9577 - val_acc: 0.7200\n",
      "Epoch 11/30\n",
      "30000/30000 [==============================] - 59s 2ms/step - loss: 0.5686 - acc: 0.8009 - val_loss: 0.9846 - val_acc: 0.7000\n",
      "Epoch 12/30\n",
      "30000/30000 [==============================] - 59s 2ms/step - loss: 0.5313 - acc: 0.8133 - val_loss: 0.8890 - val_acc: 0.7000\n",
      "Epoch 13/30\n",
      "30000/30000 [==============================] - 59s 2ms/step - loss: 0.4916 - acc: 0.8262 - val_loss: 0.9256 - val_acc: 0.7100\n",
      "Epoch 14/30\n",
      "30000/30000 [==============================] - 59s 2ms/step - loss: 0.4605 - acc: 0.8389 - val_loss: 0.8381 - val_acc: 0.7600\n",
      "Epoch 15/30\n",
      "30000/30000 [==============================] - 59s 2ms/step - loss: 0.4370 - acc: 0.8450 - val_loss: 0.9762 - val_acc: 0.7600\n",
      "Epoch 16/30\n",
      "30000/30000 [==============================] - 59s 2ms/step - loss: 0.4250 - acc: 0.8502 - val_loss: 0.9984 - val_acc: 0.6900\n",
      "Epoch 17/30\n",
      "30000/30000 [==============================] - 59s 2ms/step - loss: 0.3926 - acc: 0.8619 - val_loss: 0.9459 - val_acc: 0.7500\n",
      "Epoch 18/30\n",
      "30000/30000 [==============================] - 59s 2ms/step - loss: 0.3687 - acc: 0.8692 - val_loss: 0.9259 - val_acc: 0.6800\n",
      "Epoch 19/30\n",
      "30000/30000 [==============================] - 58s 2ms/step - loss: 0.3521 - acc: 0.8768 - val_loss: 0.8622 - val_acc: 0.7600\n",
      "Epoch 20/30\n",
      "30000/30000 [==============================] - 59s 2ms/step - loss: 0.3345 - acc: 0.8798 - val_loss: 1.0838 - val_acc: 0.7500\n",
      "Epoch 21/30\n",
      "30000/30000 [==============================] - 59s 2ms/step - loss: 0.3378 - acc: 0.8804 - val_loss: 0.7605 - val_acc: 0.8000\n",
      "Epoch 22/30\n",
      "30000/30000 [==============================] - 59s 2ms/step - loss: 0.3003 - acc: 0.8926 - val_loss: 0.8673 - val_acc: 0.7200\n",
      "Epoch 23/30\n",
      "30000/30000 [==============================] - 59s 2ms/step - loss: 0.3088 - acc: 0.8897 - val_loss: 0.9061 - val_acc: 0.7800\n",
      "Epoch 24/30\n",
      "30000/30000 [==============================] - 58s 2ms/step - loss: 0.2952 - acc: 0.8977 - val_loss: 0.8581 - val_acc: 0.8100\n",
      "Epoch 25/30\n",
      "30000/30000 [==============================] - 58s 2ms/step - loss: 0.2755 - acc: 0.9021 - val_loss: 0.9597 - val_acc: 0.7500\n",
      "Epoch 26/30\n",
      "30000/30000 [==============================] - 59s 2ms/step - loss: 0.2650 - acc: 0.9085 - val_loss: 0.9291 - val_acc: 0.7700\n",
      "Epoch 27/30\n",
      "30000/30000 [==============================] - 59s 2ms/step - loss: 0.2693 - acc: 0.9060 - val_loss: 0.9540 - val_acc: 0.7700\n",
      "Epoch 28/30\n",
      "30000/30000 [==============================] - 58s 2ms/step - loss: 0.2611 - acc: 0.9097 - val_loss: 0.9700 - val_acc: 0.8000\n",
      "Epoch 29/30\n",
      "30000/30000 [==============================] - 58s 2ms/step - loss: 0.2500 - acc: 0.9125 - val_loss: 0.9213 - val_acc: 0.8000\n",
      "Epoch 30/30\n",
      "30000/30000 [==============================] - 59s 2ms/step - loss: 0.2380 - acc: 0.9175 - val_loss: 0.9009 - val_acc: 0.7600\n"
     ]
    }
   ],
   "source": [
    "# PREPROCESSING: zero-center\n",
    "\n",
    "import keras\n",
    "\n",
    "x_train2 = x_train[0:30000] - 127.0\n",
    "y_train2 = keras.utils.to_categorical(y_train[0:30000], 10) \n",
    "x_valid2 = x_test[0:100] - 127.0\n",
    "y_valid2 = keras.utils.to_categorical(y_test[0:100], 10) \n",
    "\n",
    "model2 = get_model()\n",
    "history2 = model2.fit(x_train2, y_train2, batch_size=64, epochs=30, shuffle=False, validation_data=(x_valid2, y_valid2))"
   ]
  },
  {
   "cell_type": "code",
   "execution_count": 6,
   "metadata": {},
   "outputs": [
    {
     "name": "stdout",
     "output_type": "stream",
     "text": [
      "Train on 30000 samples, validate on 100 samples\n",
      "Epoch 1/30\n",
      "30000/30000 [==============================] - 60s 2ms/step - loss: 1.8312 - acc: 0.2996 - val_loss: 1.5467 - val_acc: 0.4100\n",
      "Epoch 2/30\n",
      "30000/30000 [==============================] - 59s 2ms/step - loss: 1.4073 - acc: 0.4792 - val_loss: 1.2206 - val_acc: 0.5300\n",
      "Epoch 3/30\n",
      "30000/30000 [==============================] - 60s 2ms/step - loss: 1.2087 - acc: 0.5608 - val_loss: 1.0892 - val_acc: 0.6000\n",
      "Epoch 4/30\n",
      "30000/30000 [==============================] - 59s 2ms/step - loss: 1.0700 - acc: 0.6177 - val_loss: 0.9811 - val_acc: 0.6200\n",
      "Epoch 5/30\n",
      "30000/30000 [==============================] - 59s 2ms/step - loss: 0.9623 - acc: 0.6549 - val_loss: 0.8785 - val_acc: 0.6600\n",
      "Epoch 6/30\n",
      "30000/30000 [==============================] - 59s 2ms/step - loss: 0.8802 - acc: 0.6885 - val_loss: 0.7940 - val_acc: 0.6800\n",
      "Epoch 7/30\n",
      "30000/30000 [==============================] - 59s 2ms/step - loss: 0.8053 - acc: 0.7146 - val_loss: 0.7155 - val_acc: 0.7300\n",
      "Epoch 8/30\n",
      "30000/30000 [==============================] - 59s 2ms/step - loss: 0.7422 - acc: 0.7396 - val_loss: 0.6935 - val_acc: 0.7800\n",
      "Epoch 9/30\n",
      "30000/30000 [==============================] - 59s 2ms/step - loss: 0.6881 - acc: 0.7592 - val_loss: 0.6297 - val_acc: 0.8100\n",
      "Epoch 10/30\n",
      "30000/30000 [==============================] - 59s 2ms/step - loss: 0.6423 - acc: 0.7748 - val_loss: 0.6561 - val_acc: 0.7900\n",
      "Epoch 11/30\n",
      "30000/30000 [==============================] - 59s 2ms/step - loss: 0.5974 - acc: 0.7894 - val_loss: 0.6042 - val_acc: 0.8400\n",
      "Epoch 12/30\n",
      "30000/30000 [==============================] - 59s 2ms/step - loss: 0.5580 - acc: 0.8030 - val_loss: 0.6083 - val_acc: 0.8300\n",
      "Epoch 13/30\n",
      "30000/30000 [==============================] - 59s 2ms/step - loss: 0.5288 - acc: 0.8121 - val_loss: 0.5567 - val_acc: 0.8100\n",
      "Epoch 14/30\n",
      "30000/30000 [==============================] - 59s 2ms/step - loss: 0.4975 - acc: 0.8235 - val_loss: 0.6044 - val_acc: 0.8200\n",
      "Epoch 15/30\n",
      "30000/30000 [==============================] - 59s 2ms/step - loss: 0.4747 - acc: 0.8338 - val_loss: 0.5942 - val_acc: 0.8000\n",
      "Epoch 16/30\n",
      "30000/30000 [==============================] - 59s 2ms/step - loss: 0.4515 - acc: 0.8394 - val_loss: 0.6213 - val_acc: 0.8300\n",
      "Epoch 17/30\n",
      "30000/30000 [==============================] - 59s 2ms/step - loss: 0.4154 - acc: 0.8530 - val_loss: 0.5522 - val_acc: 0.8300\n",
      "Epoch 18/30\n",
      "30000/30000 [==============================] - 59s 2ms/step - loss: 0.3956 - acc: 0.8601 - val_loss: 0.6396 - val_acc: 0.8100\n",
      "Epoch 19/30\n",
      "30000/30000 [==============================] - 59s 2ms/step - loss: 0.3686 - acc: 0.8683 - val_loss: 0.6138 - val_acc: 0.8100\n",
      "Epoch 20/30\n",
      "30000/30000 [==============================] - 59s 2ms/step - loss: 0.3562 - acc: 0.8739 - val_loss: 0.6836 - val_acc: 0.7900\n",
      "Epoch 21/30\n",
      "30000/30000 [==============================] - 59s 2ms/step - loss: 0.3295 - acc: 0.8813 - val_loss: 0.6680 - val_acc: 0.8100\n",
      "Epoch 22/30\n",
      "30000/30000 [==============================] - 59s 2ms/step - loss: 0.3117 - acc: 0.8886 - val_loss: 0.6315 - val_acc: 0.8000\n",
      "Epoch 23/30\n",
      "30000/30000 [==============================] - 59s 2ms/step - loss: 0.2949 - acc: 0.8938 - val_loss: 0.7365 - val_acc: 0.8100\n",
      "Epoch 24/30\n",
      "30000/30000 [==============================] - 59s 2ms/step - loss: 0.2707 - acc: 0.9018 - val_loss: 0.7064 - val_acc: 0.8100\n",
      "Epoch 25/30\n",
      "30000/30000 [==============================] - 59s 2ms/step - loss: 0.2536 - acc: 0.9095 - val_loss: 0.7429 - val_acc: 0.8200\n",
      "Epoch 26/30\n",
      "30000/30000 [==============================] - 59s 2ms/step - loss: 0.2389 - acc: 0.9140 - val_loss: 0.8212 - val_acc: 0.8100\n",
      "Epoch 27/30\n",
      "30000/30000 [==============================] - 59s 2ms/step - loss: 0.2273 - acc: 0.9167 - val_loss: 0.7092 - val_acc: 0.8500\n",
      "Epoch 28/30\n",
      "30000/30000 [==============================] - 60s 2ms/step - loss: 0.2124 - acc: 0.9237 - val_loss: 0.7549 - val_acc: 0.8300\n",
      "Epoch 29/30\n",
      "30000/30000 [==============================] - 60s 2ms/step - loss: 0.2060 - acc: 0.9265 - val_loss: 0.8257 - val_acc: 0.7700\n",
      "Epoch 30/30\n",
      "30000/30000 [==============================] - 60s 2ms/step - loss: 0.1876 - acc: 0.9331 - val_loss: 0.7189 - val_acc: 0.8300\n"
     ]
    }
   ],
   "source": [
    "# PREPROCESSING: scaling\n",
    "\n",
    "import keras\n",
    "\n",
    "x_train3 = x_train[0:30000] / 255.0\n",
    "y_train3 = keras.utils.to_categorical(y_train[0:30000], 10) \n",
    "x_valid3 = x_test[0:100] / 255.0\n",
    "y_valid3 = keras.utils.to_categorical(y_test[0:100], 10)\n",
    "\n",
    "model3 = get_model()\n",
    "history3 = model3.fit(x_train3, y_train3, batch_size=64, epochs=30, shuffle=False, validation_data=(x_valid3, y_valid3))"
   ]
  },
  {
   "cell_type": "code",
   "execution_count": 7,
   "metadata": {},
   "outputs": [
    {
     "name": "stdout",
     "output_type": "stream",
     "text": [
      "Train on 30000 samples, validate on 100 samples\n",
      "Epoch 1/30\n",
      "30000/30000 [==============================] - 59s 2ms/step - loss: 1.7410 - acc: 0.3383 - val_loss: 1.3541 - val_acc: 0.4900\n",
      "Epoch 2/30\n",
      "30000/30000 [==============================] - 59s 2ms/step - loss: 1.3070 - acc: 0.5234 - val_loss: 1.0880 - val_acc: 0.5700\n",
      "Epoch 3/30\n",
      "30000/30000 [==============================] - 59s 2ms/step - loss: 1.0970 - acc: 0.6073 - val_loss: 0.9784 - val_acc: 0.6300\n",
      "Epoch 4/30\n",
      "30000/30000 [==============================] - 59s 2ms/step - loss: 0.9692 - acc: 0.6551 - val_loss: 0.8978 - val_acc: 0.6600\n",
      "Epoch 5/30\n",
      "30000/30000 [==============================] - 59s 2ms/step - loss: 0.8769 - acc: 0.6879 - val_loss: 0.8699 - val_acc: 0.6900\n",
      "Epoch 6/30\n",
      "30000/30000 [==============================] - 59s 2ms/step - loss: 0.7974 - acc: 0.7197 - val_loss: 0.7887 - val_acc: 0.7000\n",
      "Epoch 7/30\n",
      "30000/30000 [==============================] - 59s 2ms/step - loss: 0.7252 - acc: 0.7449 - val_loss: 0.7113 - val_acc: 0.7200\n",
      "Epoch 8/30\n",
      "30000/30000 [==============================] - 59s 2ms/step - loss: 0.6725 - acc: 0.7631 - val_loss: 0.7054 - val_acc: 0.7400\n",
      "Epoch 9/30\n",
      "30000/30000 [==============================] - 59s 2ms/step - loss: 0.6199 - acc: 0.7813 - val_loss: 0.6539 - val_acc: 0.7500\n",
      "Epoch 10/30\n",
      "30000/30000 [==============================] - 59s 2ms/step - loss: 0.5766 - acc: 0.7998 - val_loss: 0.6745 - val_acc: 0.7300\n",
      "Epoch 11/30\n",
      "30000/30000 [==============================] - 59s 2ms/step - loss: 0.5398 - acc: 0.8098 - val_loss: 0.5874 - val_acc: 0.7800\n",
      "Epoch 12/30\n",
      "30000/30000 [==============================] - 59s 2ms/step - loss: 0.4993 - acc: 0.8237 - val_loss: 0.6335 - val_acc: 0.7700\n",
      "Epoch 13/30\n",
      "30000/30000 [==============================] - 59s 2ms/step - loss: 0.4700 - acc: 0.8347 - val_loss: 0.6389 - val_acc: 0.8000\n",
      "Epoch 14/30\n",
      "30000/30000 [==============================] - 59s 2ms/step - loss: 0.4444 - acc: 0.8436 - val_loss: 0.6463 - val_acc: 0.7700\n",
      "Epoch 15/30\n",
      "30000/30000 [==============================] - 59s 2ms/step - loss: 0.4062 - acc: 0.8558 - val_loss: 0.6412 - val_acc: 0.7600\n",
      "Epoch 16/30\n",
      "30000/30000 [==============================] - 59s 2ms/step - loss: 0.3840 - acc: 0.8636 - val_loss: 0.7028 - val_acc: 0.7500\n",
      "Epoch 17/30\n",
      "30000/30000 [==============================] - 59s 2ms/step - loss: 0.3521 - acc: 0.8733 - val_loss: 0.6488 - val_acc: 0.7800\n",
      "Epoch 18/30\n",
      "30000/30000 [==============================] - 59s 2ms/step - loss: 0.3360 - acc: 0.8791 - val_loss: 0.6617 - val_acc: 0.7700\n",
      "Epoch 19/30\n",
      "30000/30000 [==============================] - 59s 2ms/step - loss: 0.3091 - acc: 0.8895 - val_loss: 0.6714 - val_acc: 0.7600\n",
      "Epoch 20/30\n",
      "30000/30000 [==============================] - 59s 2ms/step - loss: 0.2883 - acc: 0.8948 - val_loss: 0.6741 - val_acc: 0.8100\n",
      "Epoch 21/30\n",
      "30000/30000 [==============================] - 59s 2ms/step - loss: 0.2631 - acc: 0.9053 - val_loss: 0.7350 - val_acc: 0.7700\n",
      "Epoch 22/30\n",
      "30000/30000 [==============================] - 59s 2ms/step - loss: 0.2485 - acc: 0.9118 - val_loss: 0.6742 - val_acc: 0.7900\n",
      "Epoch 23/30\n",
      "30000/30000 [==============================] - 59s 2ms/step - loss: 0.2356 - acc: 0.9153 - val_loss: 0.6776 - val_acc: 0.8100\n",
      "Epoch 24/30\n",
      "30000/30000 [==============================] - 59s 2ms/step - loss: 0.2290 - acc: 0.9176 - val_loss: 0.6575 - val_acc: 0.8000\n",
      "Epoch 25/30\n",
      "30000/30000 [==============================] - 59s 2ms/step - loss: 0.2079 - acc: 0.9256 - val_loss: 0.9534 - val_acc: 0.7700\n",
      "Epoch 26/30\n",
      "30000/30000 [==============================] - 59s 2ms/step - loss: 0.1995 - acc: 0.9288 - val_loss: 0.8258 - val_acc: 0.7800\n",
      "Epoch 27/30\n",
      "30000/30000 [==============================] - 59s 2ms/step - loss: 0.1885 - acc: 0.9326 - val_loss: 0.8671 - val_acc: 0.8000\n",
      "Epoch 28/30\n",
      "30000/30000 [==============================] - 59s 2ms/step - loss: 0.1795 - acc: 0.9353 - val_loss: 0.8451 - val_acc: 0.7900\n",
      "Epoch 29/30\n",
      "30000/30000 [==============================] - 59s 2ms/step - loss: 0.1678 - acc: 0.9400 - val_loss: 1.0410 - val_acc: 0.7800\n",
      "Epoch 30/30\n",
      "30000/30000 [==============================] - 59s 2ms/step - loss: 0.1673 - acc: 0.9394 - val_loss: 0.8691 - val_acc: 0.7400\n"
     ]
    }
   ],
   "source": [
    "# PREPROCESSING: zero-center + scaling\n",
    "\n",
    "import keras\n",
    "\n",
    "x_train4 = (x_train[0:30000] - 127.0) / 127.0\n",
    "y_train4 = keras.utils.to_categorical(y_train[0:30000], 10)\n",
    "\n",
    "x_valid4 = (x_test[0:100] - 127.0) / 127.0\n",
    "y_valid4 = keras.utils.to_categorical(y_test[0:100], 10) \n",
    "\n",
    "model4 = get_model()\n",
    "history4 = model4.fit(x_train4, y_train4, batch_size=64, epochs=30, shuffle=False, validation_data=(x_valid4, y_valid4))"
   ]
  },
  {
   "cell_type": "code",
   "execution_count": 8,
   "metadata": {},
   "outputs": [
    {
     "data": {
      "text/plain": [
       "Text(0.5, 1.0, 'Training loss')"
      ]
     },
     "execution_count": 8,
     "metadata": {},
     "output_type": "execute_result"
    },
    {
     "data": {
      "image/png": "[encoded data removed]",
      "text/plain": [
       "<Figure size 648x648 with 1 Axes>"
      ]
     },
     "metadata": {
      "needs_background": "light"
     },
     "output_type": "display_data"
    }
   ],
   "source": [
    "%matplotlib inline\n",
    "\n",
    "import matplotlib.pyplot as plt\n",
    "\n",
    "x = [i for i in range(30)]\n",
    "\n",
    "# loss curves for 4 models\n",
    "plt.figure(figsize=(9, 9))\n",
    "\n",
    "l = plt.plot(x, history1.history['loss'])\n",
    "plt.setp(l, color='black', ls='-', label='none')\n",
    "\n",
    "l = plt.plot(x, history2.history['loss'])\n",
    "plt.setp(l, color='blue', ls='-', label='zero-center')\n",
    "\n",
    "l = plt.plot(x, history3.history['loss'])\n",
    "plt.setp(l, color='green', ls='-', label='scaling')\n",
    "\n",
    "l = plt.plot(x, history4.history['loss'])\n",
    "plt.setp(l, color='magenta', ls='-', label='both')\n",
    "\n",
    "\n",
    "plt.legend(loc='upper right')\n",
    "plt.title('Training loss')"
   ]
  },
  {
   "cell_type": "code",
   "execution_count": 10,
   "metadata": {},
   "outputs": [
    {
     "data": {
      "text/plain": [
       "Text(0.5, 1.0, 'Training accuracy')"
      ]
     },
     "execution_count": 10,
     "metadata": {},
     "output_type": "execute_result"
    },
    {
     "data": {
      "image/png": "[encoded data removed]",
      "text/plain": [
       "<Figure size 648x648 with 1 Axes>"
      ]
     },
     "metadata": {
      "needs_background": "light"
     },
     "output_type": "display_data"
    }
   ],
   "source": [
    "%matplotlib inline\n",
    "\n",
    "import matplotlib.pyplot as plt\n",
    "\n",
    "x = [i for i in range(30)]\n",
    "\n",
    "# loss curves for 4 models\n",
    "plt.figure(figsize=(9, 9))\n",
    "\n",
    "l = plt.plot(x, history1.history['acc'])\n",
    "plt.setp(l, color='black', ls='-', label='none')\n",
    "\n",
    "l = plt.plot(x, history2.history['acc'])\n",
    "plt.setp(l, color='blue', ls='-', label='zero-center')\n",
    "\n",
    "l = plt.plot(x, history3.history['acc'])\n",
    "plt.setp(l, color='green', ls='-', label='scaling')\n",
    "\n",
    "l = plt.plot(x, history4.history['acc'])\n",
    "plt.setp(l, color='magenta', ls='-', label='both')\n",
    "\n",
    "\n",
    "plt.legend(loc='upper right')\n",
    "plt.title('Training accuracy')"
   ]
  },
  {
   "cell_type": "code",
   "execution_count": 9,
   "metadata": {},
   "outputs": [
    {
     "data": {
      "text/plain": [
       "Text(0.5, 1.0, 'Valid accuracy')"
      ]
     },
     "execution_count": 9,
     "metadata": {},
     "output_type": "execute_result"
    },
    {
     "data": {
      "image/png": "[encoded data removed]",
      "text/plain": [
       "<Figure size 648x648 with 1 Axes>"
      ]
     },
     "metadata": {
      "needs_background": "light"
     },
     "output_type": "display_data"
    }
   ],
   "source": [
    "%matplotlib inline\n",
    "\n",
    "import matplotlib.pyplot as plt\n",
    "\n",
    "x = [i for i in range(30)]\n",
    "\n",
    "# loss curves for 4 models\n",
    "plt.figure(figsize=(9, 9))\n",
    "\n",
    "l = plt.plot(x, history1.history['val_acc'])\n",
    "plt.setp(l, color='black', ls='-', label='none')\n",
    "\n",
    "l = plt.plot(x, history2.history['val_acc'])\n",
    "plt.setp(l, color='blue', ls='-', label='zero-center')\n",
    "\n",
    "l = plt.plot(x, history3.history['val_acc'])\n",
    "plt.setp(l, color='green', ls='-', label='scaling')\n",
    "\n",
    "l = plt.plot(x, history4.history['val_acc'])\n",
    "plt.setp(l, color='magenta', ls='-', label='both')\n",
    "\n",
    "\n",
    "plt.legend(loc='upper right')\n",
    "plt.title('Valid accuracy')"
   ]
  },
  {
   "cell_type": "code",
   "execution_count": null,
   "metadata": {},
   "outputs": [],
   "source": []
  }
 ],
 "metadata": {
  "kernelspec": {
   "display_name": "Python 3",
   "language": "python",
   "name": "python3"
  },
  "language_info": {
   "codemirror_mode": {
    "name": "ipython",
    "version": 3
   },
   "file_extension": ".py",
   "mimetype": "text/x-python",
   "name": "python",
   "nbconvert_exporter": "python",
   "pygments_lexer": "ipython3",
   "version": "3.6.8"
  }
 },
 "nbformat": 4,
 "nbformat_minor": 2
}
